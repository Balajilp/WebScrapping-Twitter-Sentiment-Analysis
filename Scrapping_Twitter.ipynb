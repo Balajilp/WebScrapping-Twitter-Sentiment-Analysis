{
 "cells": [
  {
   "cell_type": "markdown",
   "id": "c3d3ecf1",
   "metadata": {},
   "source": [
    "### Scraping AmazonIndia customer feed back tweets from Twitter"
   ]
  },
  {
   "cell_type": "code",
   "execution_count": 51,
   "id": "86e747a0",
   "metadata": {},
   "outputs": [],
   "source": [
    "# Importing sntwitter for scraping the data\n",
    "import snscrape.modules.twitter as sntwitter\n",
    "import pandas as pd\n",
    "\n",
    "# Creating list to append tweet data to\n",
    "amazon_list = []\n",
    "\n",
    "# Using TwitterSearchScraper to scrape data and append tweets to list\n",
    "for i,tweet in enumerate(sntwitter.TwitterSearchScraper('amazonsupport since:2019-01-01 until:2021-12-25').get_items()):\n",
    "    if i>5000:\n",
    "        break\n",
    "    amazon_list.append([tweet.date, tweet.id, tweet.user.username, tweet.content])\n",
    "    \n",
    "# Creating a dataframe from the tweets list above\n",
    "amazon_df = pd.DataFrame(amazon_list, columns=['Datetime', 'Tweet Id', 'Name', 'tweet'])"
   ]
  },
  {
   "cell_type": "code",
   "execution_count": 52,
   "id": "8cd27c96",
   "metadata": {},
   "outputs": [
    {
     "data": {
      "text/plain": [
       "(559, 4)"
      ]
     },
     "execution_count": 52,
     "metadata": {},
     "output_type": "execute_result"
    }
   ],
   "source": [
    "#shape of the dataframe\n",
    "amazon_df.shape"
   ]
  },
  {
   "cell_type": "code",
   "execution_count": 53,
   "id": "887841a2",
   "metadata": {},
   "outputs": [],
   "source": [
    "# Removing Duplicate values\n",
    "amazon_df.drop_duplicates(inplace=True)"
   ]
  },
  {
   "cell_type": "code",
   "execution_count": 54,
   "id": "2f72a1a1",
   "metadata": {},
   "outputs": [
    {
     "data": {
      "text/plain": [
       "(559, 4)"
      ]
     },
     "execution_count": 54,
     "metadata": {},
     "output_type": "execute_result"
    }
   ],
   "source": [
    "#\n",
    "amazon_df.shape"
   ]
  },
  {
   "cell_type": "code",
   "execution_count": 5,
   "id": "b3668c5c",
   "metadata": {},
   "outputs": [],
   "source": [
    "amazon_df['Company_Name'] = 'AmazonIndia'"
   ]
  },
  {
   "cell_type": "code",
   "execution_count": 6,
   "id": "7d1cb217",
   "metadata": {},
   "outputs": [
    {
     "data": {
      "text/html": [
       "<div>\n",
       "<style scoped>\n",
       "    .dataframe tbody tr th:only-of-type {\n",
       "        vertical-align: middle;\n",
       "    }\n",
       "\n",
       "    .dataframe tbody tr th {\n",
       "        vertical-align: top;\n",
       "    }\n",
       "\n",
       "    .dataframe thead th {\n",
       "        text-align: right;\n",
       "    }\n",
       "</style>\n",
       "<table border=\"1\" class=\"dataframe\">\n",
       "  <thead>\n",
       "    <tr style=\"text-align: right;\">\n",
       "      <th></th>\n",
       "      <th>Datetime</th>\n",
       "      <th>Tweet Id</th>\n",
       "      <th>Name</th>\n",
       "      <th>tweet</th>\n",
       "      <th>Company_Name</th>\n",
       "    </tr>\n",
       "  </thead>\n",
       "  <tbody>\n",
       "    <tr>\n",
       "      <th>0</th>\n",
       "      <td>2021-12-19 09:25:50+00:00</td>\n",
       "      <td>1472498398989332482</td>\n",
       "      <td>KariBethReilly</td>\n",
       "      <td>:. @amazonsupport wow. https://t.co/KSwzvYkyg6</td>\n",
       "      <td>AmazonIndia</td>\n",
       "    </tr>\n",
       "    <tr>\n",
       "      <th>1</th>\n",
       "      <td>2021-12-15 10:56:04+00:00</td>\n",
       "      <td>1471071555178299392</td>\n",
       "      <td>nkjindal111</td>\n",
       "      <td>@AmazonHelp #Amazon #AmazonSupport executive a...</td>\n",
       "      <td>AmazonIndia</td>\n",
       "    </tr>\n",
       "    <tr>\n",
       "      <th>2</th>\n",
       "      <td>2021-12-15 10:53:23+00:00</td>\n",
       "      <td>1471070879601680386</td>\n",
       "      <td>nkjindal111</td>\n",
       "      <td>@AmazonHelp As expected ...still waiting for t...</td>\n",
       "      <td>AmazonIndia</td>\n",
       "    </tr>\n",
       "    <tr>\n",
       "      <th>3</th>\n",
       "      <td>2021-12-13 07:01:36+00:00</td>\n",
       "      <td>1470287774011904002</td>\n",
       "      <td>GVikramjeet</td>\n",
       "      <td>#amazonsupport hello sir I order for one thing...</td>\n",
       "      <td>AmazonIndia</td>\n",
       "    </tr>\n",
       "    <tr>\n",
       "      <th>4</th>\n",
       "      <td>2021-12-08 07:28:24+00:00</td>\n",
       "      <td>1468482577241575424</td>\n",
       "      <td>nkjindal111</td>\n",
       "      <td>Shame on #ASUS #Amazon #AmazonSupport\\nI have ...</td>\n",
       "      <td>AmazonIndia</td>\n",
       "    </tr>\n",
       "  </tbody>\n",
       "</table>\n",
       "</div>"
      ],
      "text/plain": [
       "                   Datetime             Tweet Id            Name  \\\n",
       "0 2021-12-19 09:25:50+00:00  1472498398989332482  KariBethReilly   \n",
       "1 2021-12-15 10:56:04+00:00  1471071555178299392     nkjindal111   \n",
       "2 2021-12-15 10:53:23+00:00  1471070879601680386     nkjindal111   \n",
       "3 2021-12-13 07:01:36+00:00  1470287774011904002     GVikramjeet   \n",
       "4 2021-12-08 07:28:24+00:00  1468482577241575424     nkjindal111   \n",
       "\n",
       "                                               tweet Company_Name  \n",
       "0     :. @amazonsupport wow. https://t.co/KSwzvYkyg6  AmazonIndia  \n",
       "1  @AmazonHelp #Amazon #AmazonSupport executive a...  AmazonIndia  \n",
       "2  @AmazonHelp As expected ...still waiting for t...  AmazonIndia  \n",
       "3  #amazonsupport hello sir I order for one thing...  AmazonIndia  \n",
       "4  Shame on #ASUS #Amazon #AmazonSupport\\nI have ...  AmazonIndia  "
      ]
     },
     "execution_count": 6,
     "metadata": {},
     "output_type": "execute_result"
    }
   ],
   "source": [
    "amazon_df.head()"
   ]
  },
  {
   "cell_type": "markdown",
   "id": "a4b0b095",
   "metadata": {},
   "source": [
    "### Scraping Flipkart customer feed back tweets from Twitter"
   ]
  },
  {
   "cell_type": "code",
   "execution_count": 7,
   "id": "d5022755",
   "metadata": {},
   "outputs": [],
   "source": [
    "# Creating list to append tweet datda of flipkart\n",
    "flipkart_list = []\n",
    "\n",
    "# Using TwitterSearchScraper to scrape data and append tweets to list\n",
    "for i,tweet in enumerate(sntwitter.TwitterSearchScraper('flipkartsupport since:2019-01-01 until:2021-12-25').get_items()):\n",
    "    if i>5000:\n",
    "        break\n",
    "    flipkart_list.append([tweet.date, tweet.id, tweet.user.username, tweet.content])\n",
    "    \n",
    "# Creating a dataframe from the tweets list above\n",
    "flipkart_df = pd.DataFrame(flipkart_list, columns=['Datetime', 'Tweet Id', 'Name', 'tweet'])"
   ]
  },
  {
   "cell_type": "code",
   "execution_count": 8,
   "id": "e8e8258e",
   "metadata": {},
   "outputs": [
    {
     "data": {
      "text/plain": [
       "(5001, 4)"
      ]
     },
     "execution_count": 8,
     "metadata": {},
     "output_type": "execute_result"
    }
   ],
   "source": [
    "# shape of the dataframe\n",
    "flipkart_df.shape"
   ]
  },
  {
   "cell_type": "code",
   "execution_count": 9,
   "id": "ce640ed1",
   "metadata": {},
   "outputs": [],
   "source": [
    "# Removing Duplicate values\n",
    "flipkart_df.drop_duplicates(inplace=True)"
   ]
  },
  {
   "cell_type": "code",
   "execution_count": 10,
   "id": "cfbaf22e",
   "metadata": {},
   "outputs": [
    {
     "data": {
      "text/plain": [
       "(5001, 4)"
      ]
     },
     "execution_count": 10,
     "metadata": {},
     "output_type": "execute_result"
    }
   ],
   "source": [
    "#shape of the dataframe after removing the duplicates\n",
    "flipkart_df.shape"
   ]
  },
  {
   "cell_type": "code",
   "execution_count": 11,
   "id": "d4847a34",
   "metadata": {},
   "outputs": [],
   "source": [
    "flipkart_df['Company_Name'] = 'Flipkart'"
   ]
  },
  {
   "cell_type": "code",
   "execution_count": 12,
   "id": "a067cf66",
   "metadata": {},
   "outputs": [
    {
     "data": {
      "text/html": [
       "<div>\n",
       "<style scoped>\n",
       "    .dataframe tbody tr th:only-of-type {\n",
       "        vertical-align: middle;\n",
       "    }\n",
       "\n",
       "    .dataframe tbody tr th {\n",
       "        vertical-align: top;\n",
       "    }\n",
       "\n",
       "    .dataframe thead th {\n",
       "        text-align: right;\n",
       "    }\n",
       "</style>\n",
       "<table border=\"1\" class=\"dataframe\">\n",
       "  <thead>\n",
       "    <tr style=\"text-align: right;\">\n",
       "      <th></th>\n",
       "      <th>Datetime</th>\n",
       "      <th>Tweet Id</th>\n",
       "      <th>Name</th>\n",
       "      <th>tweet</th>\n",
       "      <th>Company_Name</th>\n",
       "    </tr>\n",
       "  </thead>\n",
       "  <tbody>\n",
       "    <tr>\n",
       "      <th>0</th>\n",
       "      <td>2021-12-24 23:58:36+00:00</td>\n",
       "      <td>1474529974795206657</td>\n",
       "      <td>riteshv95826057</td>\n",
       "      <td>@flipkartsupport I need my money back @Flipkar...</td>\n",
       "      <td>Flipkart</td>\n",
       "    </tr>\n",
       "    <tr>\n",
       "      <th>1</th>\n",
       "      <td>2021-12-24 23:57:32+00:00</td>\n",
       "      <td>1474529708041662467</td>\n",
       "      <td>riteshv95826057</td>\n",
       "      <td>@flipkartsupport What is the need of privacy i...</td>\n",
       "      <td>Flipkart</td>\n",
       "    </tr>\n",
       "    <tr>\n",
       "      <th>2</th>\n",
       "      <td>2021-12-24 23:55:50+00:00</td>\n",
       "      <td>1474529280860123137</td>\n",
       "      <td>flipkartsupport</td>\n",
       "      <td>@RITESHR69573225 Sorry to hear that. We're her...</td>\n",
       "      <td>Flipkart</td>\n",
       "    </tr>\n",
       "    <tr>\n",
       "      <th>3</th>\n",
       "      <td>2021-12-24 23:52:07+00:00</td>\n",
       "      <td>1474528346591543296</td>\n",
       "      <td>RITESHR69573225</td>\n",
       "      <td>@flipkartsupport not able to return the product.</td>\n",
       "      <td>Flipkart</td>\n",
       "    </tr>\n",
       "    <tr>\n",
       "      <th>4</th>\n",
       "      <td>2021-12-24 23:27:44+00:00</td>\n",
       "      <td>1474522207669866503</td>\n",
       "      <td>flipkartsupport</td>\n",
       "      <td>@riteshv95826057 In future, please ensure that...</td>\n",
       "      <td>Flipkart</td>\n",
       "    </tr>\n",
       "  </tbody>\n",
       "</table>\n",
       "</div>"
      ],
      "text/plain": [
       "                   Datetime             Tweet Id             Name  \\\n",
       "0 2021-12-24 23:58:36+00:00  1474529974795206657  riteshv95826057   \n",
       "1 2021-12-24 23:57:32+00:00  1474529708041662467  riteshv95826057   \n",
       "2 2021-12-24 23:55:50+00:00  1474529280860123137  flipkartsupport   \n",
       "3 2021-12-24 23:52:07+00:00  1474528346591543296  RITESHR69573225   \n",
       "4 2021-12-24 23:27:44+00:00  1474522207669866503  flipkartsupport   \n",
       "\n",
       "                                               tweet Company_Name  \n",
       "0  @flipkartsupport I need my money back @Flipkar...     Flipkart  \n",
       "1  @flipkartsupport What is the need of privacy i...     Flipkart  \n",
       "2  @RITESHR69573225 Sorry to hear that. We're her...     Flipkart  \n",
       "3   @flipkartsupport not able to return the product.     Flipkart  \n",
       "4  @riteshv95826057 In future, please ensure that...     Flipkart  "
      ]
     },
     "execution_count": 12,
     "metadata": {},
     "output_type": "execute_result"
    }
   ],
   "source": [
    "flipkart_df.head()"
   ]
  },
  {
   "cell_type": "markdown",
   "id": "285b183d",
   "metadata": {},
   "source": [
    "### Scraping snapdeal customer feed back tweets from Twitter"
   ]
  },
  {
   "cell_type": "code",
   "execution_count": 13,
   "id": "2e2c6094",
   "metadata": {},
   "outputs": [],
   "source": [
    "# Creating list to append tweet datda of snapdeal\n",
    "snapdeal_list = []\n",
    "\n",
    "# Using TwitterSearchScraper to scrape data and append tweets to list\n",
    "for i,tweet in enumerate(sntwitter.TwitterSearchScraper('snapdeal help since:2019-01-01 until:2021-12-25').get_items()):\n",
    "    if i>5000:\n",
    "        break\n",
    "    snapdeal_list.append([tweet.date, tweet.id, tweet.user.username, tweet.content])\n",
    "    \n",
    "# Creating a dataframe from the tweets list above\n",
    "snapdeal_df = pd.DataFrame(snapdeal_list, columns=['Datetime', 'Tweet Id', 'Name', 'tweet'])"
   ]
  },
  {
   "cell_type": "code",
   "execution_count": 14,
   "id": "e4f7f4d1",
   "metadata": {},
   "outputs": [
    {
     "data": {
      "text/plain": [
       "(5001, 4)"
      ]
     },
     "execution_count": 14,
     "metadata": {},
     "output_type": "execute_result"
    }
   ],
   "source": [
    "snapdeal_df.shape"
   ]
  },
  {
   "cell_type": "code",
   "execution_count": 15,
   "id": "a42f2368",
   "metadata": {},
   "outputs": [],
   "source": [
    "snapdeal_df.drop_duplicates(inplace=True)"
   ]
  },
  {
   "cell_type": "code",
   "execution_count": 16,
   "id": "bc279f62",
   "metadata": {},
   "outputs": [
    {
     "data": {
      "text/plain": [
       "(5001, 4)"
      ]
     },
     "execution_count": 16,
     "metadata": {},
     "output_type": "execute_result"
    }
   ],
   "source": [
    "snapdeal_df.shape"
   ]
  },
  {
   "cell_type": "code",
   "execution_count": 17,
   "id": "53370c00",
   "metadata": {},
   "outputs": [],
   "source": [
    "snapdeal_df['Company_Name'] = 'SnapDeal'"
   ]
  },
  {
   "cell_type": "code",
   "execution_count": 18,
   "id": "b1c3553f",
   "metadata": {},
   "outputs": [
    {
     "data": {
      "text/html": [
       "<div>\n",
       "<style scoped>\n",
       "    .dataframe tbody tr th:only-of-type {\n",
       "        vertical-align: middle;\n",
       "    }\n",
       "\n",
       "    .dataframe tbody tr th {\n",
       "        vertical-align: top;\n",
       "    }\n",
       "\n",
       "    .dataframe thead th {\n",
       "        text-align: right;\n",
       "    }\n",
       "</style>\n",
       "<table border=\"1\" class=\"dataframe\">\n",
       "  <thead>\n",
       "    <tr style=\"text-align: right;\">\n",
       "      <th></th>\n",
       "      <th>Datetime</th>\n",
       "      <th>Tweet Id</th>\n",
       "      <th>Name</th>\n",
       "      <th>tweet</th>\n",
       "      <th>Company_Name</th>\n",
       "    </tr>\n",
       "  </thead>\n",
       "  <tbody>\n",
       "    <tr>\n",
       "      <th>0</th>\n",
       "      <td>2021-12-24 23:28:24+00:00</td>\n",
       "      <td>1474522378298277888</td>\n",
       "      <td>gourabsmile12</td>\n",
       "      <td>@Snapdeal_Help Ok i will wait for your response</td>\n",
       "      <td>SnapDeal</td>\n",
       "    </tr>\n",
       "    <tr>\n",
       "      <th>1</th>\n",
       "      <td>2021-12-24 15:58:58+00:00</td>\n",
       "      <td>1474409271085256704</td>\n",
       "      <td>gourabsmile12</td>\n",
       "      <td>@Snapdeal_Help #ScamAlert #chetter  i was orde...</td>\n",
       "      <td>SnapDeal</td>\n",
       "    </tr>\n",
       "    <tr>\n",
       "      <th>2</th>\n",
       "      <td>2021-12-24 15:55:06+00:00</td>\n",
       "      <td>1474408301232148483</td>\n",
       "      <td>Gourav39628289</td>\n",
       "      <td>@Snapdeal_Help No response team what you want ...</td>\n",
       "      <td>SnapDeal</td>\n",
       "    </tr>\n",
       "    <tr>\n",
       "      <th>3</th>\n",
       "      <td>2021-12-24 15:54:39+00:00</td>\n",
       "      <td>1474408187826638851</td>\n",
       "      <td>Gourav39628289</td>\n",
       "      <td>@Snapdeal_Help What is this service fergi company</td>\n",
       "      <td>SnapDeal</td>\n",
       "    </tr>\n",
       "    <tr>\n",
       "      <th>4</th>\n",
       "      <td>2021-12-24 15:31:46+00:00</td>\n",
       "      <td>1474402429172998145</td>\n",
       "      <td>firoz99561</td>\n",
       "      <td>@Snapdeal_Help \\nमें स्नैपडील की रिटर्न प्रोसे...</td>\n",
       "      <td>SnapDeal</td>\n",
       "    </tr>\n",
       "  </tbody>\n",
       "</table>\n",
       "</div>"
      ],
      "text/plain": [
       "                   Datetime             Tweet Id            Name  \\\n",
       "0 2021-12-24 23:28:24+00:00  1474522378298277888   gourabsmile12   \n",
       "1 2021-12-24 15:58:58+00:00  1474409271085256704   gourabsmile12   \n",
       "2 2021-12-24 15:55:06+00:00  1474408301232148483  Gourav39628289   \n",
       "3 2021-12-24 15:54:39+00:00  1474408187826638851  Gourav39628289   \n",
       "4 2021-12-24 15:31:46+00:00  1474402429172998145      firoz99561   \n",
       "\n",
       "                                               tweet Company_Name  \n",
       "0    @Snapdeal_Help Ok i will wait for your response     SnapDeal  \n",
       "1  @Snapdeal_Help #ScamAlert #chetter  i was orde...     SnapDeal  \n",
       "2  @Snapdeal_Help No response team what you want ...     SnapDeal  \n",
       "3  @Snapdeal_Help What is this service fergi company     SnapDeal  \n",
       "4  @Snapdeal_Help \\nमें स्नैपडील की रिटर्न प्रोसे...     SnapDeal  "
      ]
     },
     "execution_count": 18,
     "metadata": {},
     "output_type": "execute_result"
    }
   ],
   "source": [
    "snapdeal_df.head()"
   ]
  },
  {
   "cell_type": "markdown",
   "id": "e8108d77",
   "metadata": {},
   "source": [
    "### Scraping mynthra customer feed back tweets from Twitter"
   ]
  },
  {
   "cell_type": "code",
   "execution_count": 19,
   "id": "8c7d6660",
   "metadata": {},
   "outputs": [],
   "source": [
    "# Creating list to append tweet datda of mynthra\n",
    "mynthra_list = []\n",
    "\n",
    "# Using TwitterSearchScraper to scrape data and append tweets to list\n",
    "for i,tweet in enumerate(sntwitter.TwitterSearchScraper('myntra support since:2019-01-01 until:2021-12-25').get_items()):\n",
    "    if i>5000:\n",
    "        break\n",
    "    mynthra_list.append([tweet.date, tweet.id, tweet.user.username, tweet.content])\n",
    "    \n",
    "# Creating a dataframe from the tweets list above\n",
    "mynthra_df = pd.DataFrame(mynthra_list, columns=['Datetime', 'Tweet Id', 'Name', 'tweet'])"
   ]
  },
  {
   "cell_type": "code",
   "execution_count": 20,
   "id": "de5af109",
   "metadata": {},
   "outputs": [
    {
     "data": {
      "text/plain": [
       "(5001, 4)"
      ]
     },
     "execution_count": 20,
     "metadata": {},
     "output_type": "execute_result"
    }
   ],
   "source": [
    "mynthra_df.shape"
   ]
  },
  {
   "cell_type": "code",
   "execution_count": 21,
   "id": "f46bfedf",
   "metadata": {},
   "outputs": [],
   "source": [
    "mynthra_df.drop_duplicates(inplace=True)"
   ]
  },
  {
   "cell_type": "code",
   "execution_count": 22,
   "id": "63754c19",
   "metadata": {},
   "outputs": [
    {
     "data": {
      "text/plain": [
       "(5001, 4)"
      ]
     },
     "execution_count": 22,
     "metadata": {},
     "output_type": "execute_result"
    }
   ],
   "source": [
    "mynthra_df.shape"
   ]
  },
  {
   "cell_type": "code",
   "execution_count": 23,
   "id": "9373e57d",
   "metadata": {},
   "outputs": [],
   "source": [
    "mynthra_df['Company_Name'] = 'Mynthra'"
   ]
  },
  {
   "cell_type": "code",
   "execution_count": 24,
   "id": "9037361c",
   "metadata": {},
   "outputs": [
    {
     "data": {
      "text/html": [
       "<div>\n",
       "<style scoped>\n",
       "    .dataframe tbody tr th:only-of-type {\n",
       "        vertical-align: middle;\n",
       "    }\n",
       "\n",
       "    .dataframe tbody tr th {\n",
       "        vertical-align: top;\n",
       "    }\n",
       "\n",
       "    .dataframe thead th {\n",
       "        text-align: right;\n",
       "    }\n",
       "</style>\n",
       "<table border=\"1\" class=\"dataframe\">\n",
       "  <thead>\n",
       "    <tr style=\"text-align: right;\">\n",
       "      <th></th>\n",
       "      <th>Datetime</th>\n",
       "      <th>Tweet Id</th>\n",
       "      <th>Name</th>\n",
       "      <th>tweet</th>\n",
       "      <th>Company_Name</th>\n",
       "    </tr>\n",
       "  </thead>\n",
       "  <tbody>\n",
       "    <tr>\n",
       "      <th>0</th>\n",
       "      <td>2021-12-24 19:44:45+00:00</td>\n",
       "      <td>1474466094752567298</td>\n",
       "      <td>sachmekaloge</td>\n",
       "      <td>@myntra @MyntraSupport why do you cheat custom...</td>\n",
       "      <td>Mynthra</td>\n",
       "    </tr>\n",
       "    <tr>\n",
       "      <th>1</th>\n",
       "      <td>2021-12-24 19:41:41+00:00</td>\n",
       "      <td>1474465323189301249</td>\n",
       "      <td>souvikindia</td>\n",
       "      <td>I successful pickup sms after two hours, as my...</td>\n",
       "      <td>Mynthra</td>\n",
       "    </tr>\n",
       "    <tr>\n",
       "      <th>2</th>\n",
       "      <td>2021-12-24 19:32:23+00:00</td>\n",
       "      <td>1474462982834851846</td>\n",
       "      <td>DakshBajaj3</td>\n",
       "      <td>@MyntraSupport Done! I hope it wasn't a gimmic...</td>\n",
       "      <td>Mynthra</td>\n",
       "    </tr>\n",
       "    <tr>\n",
       "      <th>3</th>\n",
       "      <td>2021-12-24 19:30:10+00:00</td>\n",
       "      <td>1474462424006684672</td>\n",
       "      <td>KanikaRawwt</td>\n",
       "      <td>@MyntraSupport This is very disappointed if ar...</td>\n",
       "      <td>Mynthra</td>\n",
       "    </tr>\n",
       "    <tr>\n",
       "      <th>4</th>\n",
       "      <td>2021-12-24 19:29:31+00:00</td>\n",
       "      <td>1474462257446744067</td>\n",
       "      <td>KanikaRawwt</td>\n",
       "      <td>This is very disappointed if are doing like th...</td>\n",
       "      <td>Mynthra</td>\n",
       "    </tr>\n",
       "  </tbody>\n",
       "</table>\n",
       "</div>"
      ],
      "text/plain": [
       "                   Datetime             Tweet Id          Name  \\\n",
       "0 2021-12-24 19:44:45+00:00  1474466094752567298  sachmekaloge   \n",
       "1 2021-12-24 19:41:41+00:00  1474465323189301249   souvikindia   \n",
       "2 2021-12-24 19:32:23+00:00  1474462982834851846   DakshBajaj3   \n",
       "3 2021-12-24 19:30:10+00:00  1474462424006684672   KanikaRawwt   \n",
       "4 2021-12-24 19:29:31+00:00  1474462257446744067   KanikaRawwt   \n",
       "\n",
       "                                               tweet Company_Name  \n",
       "0  @myntra @MyntraSupport why do you cheat custom...      Mynthra  \n",
       "1  I successful pickup sms after two hours, as my...      Mynthra  \n",
       "2  @MyntraSupport Done! I hope it wasn't a gimmic...      Mynthra  \n",
       "3  @MyntraSupport This is very disappointed if ar...      Mynthra  \n",
       "4  This is very disappointed if are doing like th...      Mynthra  "
      ]
     },
     "execution_count": 24,
     "metadata": {},
     "output_type": "execute_result"
    }
   ],
   "source": [
    "mynthra_df.head()"
   ]
  },
  {
   "cell_type": "markdown",
   "id": "72b051ec",
   "metadata": {},
   "source": [
    "### Scraping bigbazaar customer feed back tweets from Twitter"
   ]
  },
  {
   "cell_type": "code",
   "execution_count": 25,
   "id": "74fe0d96",
   "metadata": {},
   "outputs": [],
   "source": [
    "# Creating list to append tweet datda of bigbazaar\n",
    "bigbazaar_list = []\n",
    "\n",
    "# Using TwitterSearchScraper to scrape data and append tweets to list\n",
    "for i, tweet in enumerate(sntwitter.TwitterSearchScraper('bigbazaar help since:2019-01-01 until:2021-12-25').get_items()):\n",
    "    if i > 5000:\n",
    "        break\n",
    "    bigbazaar_list.append([tweet.date, tweet.id, tweet.user.username, tweet.content])\n",
    "\n",
    "# Creating a DataFrame from the tweets list above\n",
    "bigbazaar_df = pd.DataFrame(bigbazaar_list, columns=['Datetime', 'Tweet Id', 'Name', 'tweet'])"
   ]
  },
  {
   "cell_type": "code",
   "execution_count": 26,
   "id": "8759e4f9",
   "metadata": {},
   "outputs": [
    {
     "data": {
      "text/plain": [
       "(3064, 4)"
      ]
     },
     "execution_count": 26,
     "metadata": {},
     "output_type": "execute_result"
    }
   ],
   "source": [
    "bigbazaar_df.shape"
   ]
  },
  {
   "cell_type": "code",
   "execution_count": 27,
   "id": "c205338e",
   "metadata": {},
   "outputs": [],
   "source": [
    "bigbazaar_df.drop_duplicates(inplace=True)"
   ]
  },
  {
   "cell_type": "code",
   "execution_count": 28,
   "id": "23d9c3e4",
   "metadata": {},
   "outputs": [
    {
     "data": {
      "text/plain": [
       "(3064, 4)"
      ]
     },
     "execution_count": 28,
     "metadata": {},
     "output_type": "execute_result"
    }
   ],
   "source": [
    "bigbazaar_df.shape"
   ]
  },
  {
   "cell_type": "code",
   "execution_count": 29,
   "id": "aa17fabb",
   "metadata": {},
   "outputs": [],
   "source": [
    "bigbazaar_df['Company_Name'] = 'BigBazaar'"
   ]
  },
  {
   "cell_type": "code",
   "execution_count": 30,
   "id": "a890a36e",
   "metadata": {},
   "outputs": [
    {
     "data": {
      "text/html": [
       "<div>\n",
       "<style scoped>\n",
       "    .dataframe tbody tr th:only-of-type {\n",
       "        vertical-align: middle;\n",
       "    }\n",
       "\n",
       "    .dataframe tbody tr th {\n",
       "        vertical-align: top;\n",
       "    }\n",
       "\n",
       "    .dataframe thead th {\n",
       "        text-align: right;\n",
       "    }\n",
       "</style>\n",
       "<table border=\"1\" class=\"dataframe\">\n",
       "  <thead>\n",
       "    <tr style=\"text-align: right;\">\n",
       "      <th></th>\n",
       "      <th>Datetime</th>\n",
       "      <th>Tweet Id</th>\n",
       "      <th>Name</th>\n",
       "      <th>tweet</th>\n",
       "      <th>Company_Name</th>\n",
       "    </tr>\n",
       "  </thead>\n",
       "  <tbody>\n",
       "    <tr>\n",
       "      <th>0</th>\n",
       "      <td>2021-12-24 10:42:32+00:00</td>\n",
       "      <td>1474329639203991552</td>\n",
       "      <td>sidbabba</td>\n",
       "      <td>@BigBazaar @BigBazaarHelps had got a voucher f...</td>\n",
       "      <td>BigBazaar</td>\n",
       "    </tr>\n",
       "    <tr>\n",
       "      <th>1</th>\n",
       "      <td>2021-12-21 05:19:30+00:00</td>\n",
       "      <td>1473161180675932163</td>\n",
       "      <td>ravicmu</td>\n",
       "      <td>Following with @BigBazaar @BigBazaarHelps @Big...</td>\n",
       "      <td>BigBazaar</td>\n",
       "    </tr>\n",
       "    <tr>\n",
       "      <th>2</th>\n",
       "      <td>2021-12-18 09:39:28+00:00</td>\n",
       "      <td>1472139441124745217</td>\n",
       "      <td>MathurSrajat</td>\n",
       "      <td>@BigBazaar Still haven't received any response...</td>\n",
       "      <td>BigBazaar</td>\n",
       "    </tr>\n",
       "    <tr>\n",
       "      <th>3</th>\n",
       "      <td>2021-12-17 04:11:00+00:00</td>\n",
       "      <td>1471694392318521348</td>\n",
       "      <td>BigBazaar</td>\n",
       "      <td>@dealsandloots  Hi, \\n \\nWe  tried connecting ...</td>\n",
       "      <td>BigBazaar</td>\n",
       "    </tr>\n",
       "    <tr>\n",
       "      <th>4</th>\n",
       "      <td>2021-12-16 12:48:50+00:00</td>\n",
       "      <td>1471462323361509382</td>\n",
       "      <td>proaudience</td>\n",
       "      <td>@BigBazaar The matter has been resolved in a t...</td>\n",
       "      <td>BigBazaar</td>\n",
       "    </tr>\n",
       "  </tbody>\n",
       "</table>\n",
       "</div>"
      ],
      "text/plain": [
       "                   Datetime             Tweet Id          Name  \\\n",
       "0 2021-12-24 10:42:32+00:00  1474329639203991552      sidbabba   \n",
       "1 2021-12-21 05:19:30+00:00  1473161180675932163       ravicmu   \n",
       "2 2021-12-18 09:39:28+00:00  1472139441124745217  MathurSrajat   \n",
       "3 2021-12-17 04:11:00+00:00  1471694392318521348     BigBazaar   \n",
       "4 2021-12-16 12:48:50+00:00  1471462323361509382   proaudience   \n",
       "\n",
       "                                               tweet Company_Name  \n",
       "0  @BigBazaar @BigBazaarHelps had got a voucher f...    BigBazaar  \n",
       "1  Following with @BigBazaar @BigBazaarHelps @Big...    BigBazaar  \n",
       "2  @BigBazaar Still haven't received any response...    BigBazaar  \n",
       "3  @dealsandloots  Hi, \\n \\nWe  tried connecting ...    BigBazaar  \n",
       "4  @BigBazaar The matter has been resolved in a t...    BigBazaar  "
      ]
     },
     "execution_count": 30,
     "metadata": {},
     "output_type": "execute_result"
    }
   ],
   "source": [
    "bigbazaar_df.head()"
   ]
  },
  {
   "cell_type": "markdown",
   "id": "0e12c935",
   "metadata": {},
   "source": [
    "### Scraping lenskart customer feed back tweets from Twitter"
   ]
  },
  {
   "cell_type": "code",
   "execution_count": 31,
   "id": "d873fdce",
   "metadata": {},
   "outputs": [],
   "source": [
    "# Creating list to apend tweet datda of lenskart\n",
    "lenskart_list = []\n",
    "\n",
    "# Using TwitterSearchScraper to scrape data and append tweets to list\n",
    "for i, tweet in enumerate(sntwitter.TwitterSearchScraper('lenskart support since:2019-01-01 until:2021-12-25').get_items()):\n",
    "    if i > 5000:\n",
    "        break\n",
    "    lenskart_list.append([tweet.date, tweet.id, tweet.user.username, tweet.content])\n",
    "    \n",
    "# Creating a DataFrame from the tweets list above\n",
    "lenskart_df = pd.DataFrame(lenskart_list, columns=['Datetime', 'Tweet Id', 'Name', 'tweet'])"
   ]
  },
  {
   "cell_type": "code",
   "execution_count": 32,
   "id": "a2836438",
   "metadata": {},
   "outputs": [
    {
     "data": {
      "text/plain": [
       "(2068, 4)"
      ]
     },
     "execution_count": 32,
     "metadata": {},
     "output_type": "execute_result"
    }
   ],
   "source": [
    "lenskart_df.shape"
   ]
  },
  {
   "cell_type": "code",
   "execution_count": 33,
   "id": "809c851f",
   "metadata": {},
   "outputs": [],
   "source": [
    "lenskart_df.drop_duplicates(inplace=True)"
   ]
  },
  {
   "cell_type": "code",
   "execution_count": 34,
   "id": "e81b01e2",
   "metadata": {},
   "outputs": [
    {
     "data": {
      "text/plain": [
       "(2068, 4)"
      ]
     },
     "execution_count": 34,
     "metadata": {},
     "output_type": "execute_result"
    }
   ],
   "source": [
    "lenskart_df.shape"
   ]
  },
  {
   "cell_type": "code",
   "execution_count": 35,
   "id": "e7e8b29a",
   "metadata": {},
   "outputs": [],
   "source": [
    "lenskart_df['Company_Name'] = 'Lenskart'"
   ]
  },
  {
   "cell_type": "code",
   "execution_count": 36,
   "id": "d0f0036d",
   "metadata": {},
   "outputs": [
    {
     "data": {
      "text/html": [
       "<div>\n",
       "<style scoped>\n",
       "    .dataframe tbody tr th:only-of-type {\n",
       "        vertical-align: middle;\n",
       "    }\n",
       "\n",
       "    .dataframe tbody tr th {\n",
       "        vertical-align: top;\n",
       "    }\n",
       "\n",
       "    .dataframe thead th {\n",
       "        text-align: right;\n",
       "    }\n",
       "</style>\n",
       "<table border=\"1\" class=\"dataframe\">\n",
       "  <thead>\n",
       "    <tr style=\"text-align: right;\">\n",
       "      <th></th>\n",
       "      <th>Datetime</th>\n",
       "      <th>Tweet Id</th>\n",
       "      <th>Name</th>\n",
       "      <th>tweet</th>\n",
       "      <th>Company_Name</th>\n",
       "    </tr>\n",
       "  </thead>\n",
       "  <tbody>\n",
       "    <tr>\n",
       "      <th>0</th>\n",
       "      <td>2021-12-24 12:58:25+00:00</td>\n",
       "      <td>1474363835335204868</td>\n",
       "      <td>Lenskart_com</td>\n",
       "      <td>@MemeSingh_ (1/2) Hi There! We always strive t...</td>\n",
       "      <td>Lenskart</td>\n",
       "    </tr>\n",
       "    <tr>\n",
       "      <th>1</th>\n",
       "      <td>2021-12-23 13:57:57+00:00</td>\n",
       "      <td>1474016429955420164</td>\n",
       "      <td>shubham_9415</td>\n",
       "      <td>@Lenskart_com The issue has been resolved, I r...</td>\n",
       "      <td>Lenskart</td>\n",
       "    </tr>\n",
       "    <tr>\n",
       "      <th>2</th>\n",
       "      <td>2021-12-23 13:48:49+00:00</td>\n",
       "      <td>1474014131162423301</td>\n",
       "      <td>Lenskart_com</td>\n",
       "      <td>@SirSuri This is not the experience we want yo...</td>\n",
       "      <td>Lenskart</td>\n",
       "    </tr>\n",
       "    <tr>\n",
       "      <th>3</th>\n",
       "      <td>2021-12-23 11:04:11+00:00</td>\n",
       "      <td>1473972701782069248</td>\n",
       "      <td>Lenskart_com</td>\n",
       "      <td>@Madhav4587  This is not the experience we wan...</td>\n",
       "      <td>Lenskart</td>\n",
       "    </tr>\n",
       "    <tr>\n",
       "      <th>4</th>\n",
       "      <td>2021-12-22 13:28:35+00:00</td>\n",
       "      <td>1473646652342910981</td>\n",
       "      <td>Lenskart_com</td>\n",
       "      <td>@vsr_7 This is not the experience we want you ...</td>\n",
       "      <td>Lenskart</td>\n",
       "    </tr>\n",
       "  </tbody>\n",
       "</table>\n",
       "</div>"
      ],
      "text/plain": [
       "                   Datetime             Tweet Id          Name  \\\n",
       "0 2021-12-24 12:58:25+00:00  1474363835335204868  Lenskart_com   \n",
       "1 2021-12-23 13:57:57+00:00  1474016429955420164  shubham_9415   \n",
       "2 2021-12-23 13:48:49+00:00  1474014131162423301  Lenskart_com   \n",
       "3 2021-12-23 11:04:11+00:00  1473972701782069248  Lenskart_com   \n",
       "4 2021-12-22 13:28:35+00:00  1473646652342910981  Lenskart_com   \n",
       "\n",
       "                                               tweet Company_Name  \n",
       "0  @MemeSingh_ (1/2) Hi There! We always strive t...     Lenskart  \n",
       "1  @Lenskart_com The issue has been resolved, I r...     Lenskart  \n",
       "2  @SirSuri This is not the experience we want yo...     Lenskart  \n",
       "3  @Madhav4587  This is not the experience we wan...     Lenskart  \n",
       "4  @vsr_7 This is not the experience we want you ...     Lenskart  "
      ]
     },
     "execution_count": 36,
     "metadata": {},
     "output_type": "execute_result"
    }
   ],
   "source": [
    "lenskart_df.head()"
   ]
  },
  {
   "cell_type": "markdown",
   "id": "1ca74e13",
   "metadata": {},
   "source": [
    "### Scraping Ajio customer feed back tweets from Twitter"
   ]
  },
  {
   "cell_type": "code",
   "execution_count": 37,
   "id": "9814cdfd",
   "metadata": {},
   "outputs": [],
   "source": [
    "# Creating list to apend tweet datda of Ajio\n",
    "Ajio_list = []\n",
    "\n",
    "# Using TwitterSearchScraper to scrape data and append tweets to list\n",
    "for i, tweet in enumerate(sntwitter.TwitterSearchScraper('Ajio support since:2019-01-01 until:2021-12-25').get_items()):\n",
    "    if i > 5000:\n",
    "        break\n",
    "    Ajio_list.append([tweet.date, tweet.id, tweet.user.username, tweet.content])\n",
    "    \n",
    "# Creating a DataFrame from the tweets list above\n",
    "Ajio_df = pd.DataFrame(Ajio_list, columns=['Datetime', 'Tweet Id', 'Name', 'tweet'])"
   ]
  },
  {
   "cell_type": "code",
   "execution_count": 38,
   "id": "b49d9266",
   "metadata": {},
   "outputs": [
    {
     "data": {
      "text/plain": [
       "(986, 4)"
      ]
     },
     "execution_count": 38,
     "metadata": {},
     "output_type": "execute_result"
    }
   ],
   "source": [
    "Ajio_df.shape"
   ]
  },
  {
   "cell_type": "code",
   "execution_count": 39,
   "id": "1c738649",
   "metadata": {},
   "outputs": [],
   "source": [
    "Ajio_df.drop_duplicates(inplace=True)"
   ]
  },
  {
   "cell_type": "code",
   "execution_count": 40,
   "id": "30d565df",
   "metadata": {},
   "outputs": [
    {
     "data": {
      "text/plain": [
       "(986, 4)"
      ]
     },
     "execution_count": 40,
     "metadata": {},
     "output_type": "execute_result"
    }
   ],
   "source": [
    "Ajio_df.shape"
   ]
  },
  {
   "cell_type": "code",
   "execution_count": 41,
   "id": "e9b99f6c",
   "metadata": {},
   "outputs": [],
   "source": [
    "Ajio_df['Company_Name'] = 'Ajio'"
   ]
  },
  {
   "cell_type": "code",
   "execution_count": 42,
   "id": "ef8af005",
   "metadata": {},
   "outputs": [
    {
     "data": {
      "text/html": [
       "<div>\n",
       "<style scoped>\n",
       "    .dataframe tbody tr th:only-of-type {\n",
       "        vertical-align: middle;\n",
       "    }\n",
       "\n",
       "    .dataframe tbody tr th {\n",
       "        vertical-align: top;\n",
       "    }\n",
       "\n",
       "    .dataframe thead th {\n",
       "        text-align: right;\n",
       "    }\n",
       "</style>\n",
       "<table border=\"1\" class=\"dataframe\">\n",
       "  <thead>\n",
       "    <tr style=\"text-align: right;\">\n",
       "      <th></th>\n",
       "      <th>Datetime</th>\n",
       "      <th>Tweet Id</th>\n",
       "      <th>Name</th>\n",
       "      <th>tweet</th>\n",
       "      <th>Company_Name</th>\n",
       "    </tr>\n",
       "  </thead>\n",
       "  <tbody>\n",
       "    <tr>\n",
       "      <th>0</th>\n",
       "      <td>2021-12-24 12:03:12+00:00</td>\n",
       "      <td>1474349940281200643</td>\n",
       "      <td>JioMart_Support</td>\n",
       "      <td>@harshjaroli Hi Harsh, We completely understan...</td>\n",
       "      <td>Ajio</td>\n",
       "    </tr>\n",
       "    <tr>\n",
       "      <th>1</th>\n",
       "      <td>2021-12-24 10:11:02+00:00</td>\n",
       "      <td>1474321712980258817</td>\n",
       "      <td>Deepaksahoo95</td>\n",
       "      <td>@AJIOLife My Ajio account has been blocked sin...</td>\n",
       "      <td>Ajio</td>\n",
       "    </tr>\n",
       "    <tr>\n",
       "      <th>2</th>\n",
       "      <td>2021-12-24 04:45:09+00:00</td>\n",
       "      <td>1474239701494104067</td>\n",
       "      <td>shankarhandles</td>\n",
       "      <td>@AJIOLife can some one help me with the return...</td>\n",
       "      <td>Ajio</td>\n",
       "    </tr>\n",
       "    <tr>\n",
       "      <th>3</th>\n",
       "      <td>2021-12-23 04:06:49+00:00</td>\n",
       "      <td>1473867666074923008</td>\n",
       "      <td>GuptaMoniya</td>\n",
       "      <td>@AJIOLife Hi Team, I ordered a product and the...</td>\n",
       "      <td>Ajio</td>\n",
       "    </tr>\n",
       "    <tr>\n",
       "      <th>4</th>\n",
       "      <td>2021-12-21 12:27:58+00:00</td>\n",
       "      <td>1473269009663463429</td>\n",
       "      <td>harshjaroli</td>\n",
       "      <td>@JioMart_Support i not have any issue with #ji...</td>\n",
       "      <td>Ajio</td>\n",
       "    </tr>\n",
       "  </tbody>\n",
       "</table>\n",
       "</div>"
      ],
      "text/plain": [
       "                   Datetime             Tweet Id             Name  \\\n",
       "0 2021-12-24 12:03:12+00:00  1474349940281200643  JioMart_Support   \n",
       "1 2021-12-24 10:11:02+00:00  1474321712980258817    Deepaksahoo95   \n",
       "2 2021-12-24 04:45:09+00:00  1474239701494104067   shankarhandles   \n",
       "3 2021-12-23 04:06:49+00:00  1473867666074923008      GuptaMoniya   \n",
       "4 2021-12-21 12:27:58+00:00  1473269009663463429      harshjaroli   \n",
       "\n",
       "                                               tweet Company_Name  \n",
       "0  @harshjaroli Hi Harsh, We completely understan...         Ajio  \n",
       "1  @AJIOLife My Ajio account has been blocked sin...         Ajio  \n",
       "2  @AJIOLife can some one help me with the return...         Ajio  \n",
       "3  @AJIOLife Hi Team, I ordered a product and the...         Ajio  \n",
       "4  @JioMart_Support i not have any issue with #ji...         Ajio  "
      ]
     },
     "execution_count": 42,
     "metadata": {},
     "output_type": "execute_result"
    }
   ],
   "source": [
    "Ajio_df.head()"
   ]
  },
  {
   "cell_type": "markdown",
   "id": "3a9c7f78",
   "metadata": {},
   "source": [
    "### Scraping zomato customer feed back tweets from Twitter"
   ]
  },
  {
   "cell_type": "code",
   "execution_count": 43,
   "id": "d4fed061",
   "metadata": {},
   "outputs": [],
   "source": [
    "# Creating list to apend tweet datda of Zomato\n",
    "Zomato_list = []\n",
    "\n",
    "# Using TwitterSearchScraper to scrape data and append tweets to list\n",
    "for i, tweet in enumerate(sntwitter.TwitterSearchScraper('Zomato support since:2019-01-01 until:2021-12-25').get_items()):\n",
    "    if i > 5000:\n",
    "        break\n",
    "    Zomato_list.append([tweet.date, tweet.id, tweet.user.username, tweet.content])\n",
    "    \n",
    "# Creating a DataFrame from the tweets list above\n",
    "Zomato_df = pd.DataFrame(Zomato_list, columns=['Datetime', 'Tweet Id', 'Name', 'tweet'])"
   ]
  },
  {
   "cell_type": "code",
   "execution_count": 44,
   "id": "f9cf8bf0",
   "metadata": {},
   "outputs": [
    {
     "data": {
      "text/plain": [
       "(5001, 4)"
      ]
     },
     "execution_count": 44,
     "metadata": {},
     "output_type": "execute_result"
    }
   ],
   "source": [
    "Zomato_df.shape"
   ]
  },
  {
   "cell_type": "code",
   "execution_count": 45,
   "id": "86db4021",
   "metadata": {},
   "outputs": [],
   "source": [
    "Zomato_df.drop_duplicates(inplace=True)"
   ]
  },
  {
   "cell_type": "code",
   "execution_count": 46,
   "id": "e3b800f0",
   "metadata": {},
   "outputs": [
    {
     "data": {
      "text/plain": [
       "(5001, 4)"
      ]
     },
     "execution_count": 46,
     "metadata": {},
     "output_type": "execute_result"
    }
   ],
   "source": [
    "Zomato_df.shape"
   ]
  },
  {
   "cell_type": "code",
   "execution_count": 47,
   "id": "affc8673",
   "metadata": {},
   "outputs": [],
   "source": [
    "Zomato_df['Company_Name'] = 'Zomato'"
   ]
  },
  {
   "cell_type": "code",
   "execution_count": 48,
   "id": "fa08c913",
   "metadata": {},
   "outputs": [
    {
     "data": {
      "text/html": [
       "<div>\n",
       "<style scoped>\n",
       "    .dataframe tbody tr th:only-of-type {\n",
       "        vertical-align: middle;\n",
       "    }\n",
       "\n",
       "    .dataframe tbody tr th {\n",
       "        vertical-align: top;\n",
       "    }\n",
       "\n",
       "    .dataframe thead th {\n",
       "        text-align: right;\n",
       "    }\n",
       "</style>\n",
       "<table border=\"1\" class=\"dataframe\">\n",
       "  <thead>\n",
       "    <tr style=\"text-align: right;\">\n",
       "      <th></th>\n",
       "      <th>Datetime</th>\n",
       "      <th>Tweet Id</th>\n",
       "      <th>Name</th>\n",
       "      <th>tweet</th>\n",
       "      <th>Company_Name</th>\n",
       "    </tr>\n",
       "  </thead>\n",
       "  <tbody>\n",
       "    <tr>\n",
       "      <th>0</th>\n",
       "      <td>2021-12-24 23:03:50+00:00</td>\n",
       "      <td>1474516194665271299</td>\n",
       "      <td>Siddharthakur</td>\n",
       "      <td>Really appalled by the services of @zomato and...</td>\n",
       "      <td>Zomato</td>\n",
       "    </tr>\n",
       "    <tr>\n",
       "      <th>1</th>\n",
       "      <td>2021-12-24 22:36:56+00:00</td>\n",
       "      <td>1474509422701416450</td>\n",
       "      <td>deshbachao8</td>\n",
       "      <td>Zomato i need job work from home i have comple...</td>\n",
       "      <td>Zomato</td>\n",
       "    </tr>\n",
       "    <tr>\n",
       "      <th>2</th>\n",
       "      <td>2021-12-24 22:13:18+00:00</td>\n",
       "      <td>1474503477380337664</td>\n",
       "      <td>Simran91773278</td>\n",
       "      <td>@zomato @zomatocare Mr.Rohit frm d customer su...</td>\n",
       "      <td>Zomato</td>\n",
       "    </tr>\n",
       "    <tr>\n",
       "      <th>3</th>\n",
       "      <td>2021-12-24 19:06:06+00:00</td>\n",
       "      <td>1474456366177685508</td>\n",
       "      <td>nitesh21sharma</td>\n",
       "      <td>@RBLBankCares @ZomatoProHelp It's been a week ...</td>\n",
       "      <td>Zomato</td>\n",
       "    </tr>\n",
       "    <tr>\n",
       "      <th>4</th>\n",
       "      <td>2021-12-24 18:46:23+00:00</td>\n",
       "      <td>1474451405935022080</td>\n",
       "      <td>ShahShi58</td>\n",
       "      <td>This kind of support we get from zomato after ...</td>\n",
       "      <td>Zomato</td>\n",
       "    </tr>\n",
       "  </tbody>\n",
       "</table>\n",
       "</div>"
      ],
      "text/plain": [
       "                   Datetime             Tweet Id            Name  \\\n",
       "0 2021-12-24 23:03:50+00:00  1474516194665271299   Siddharthakur   \n",
       "1 2021-12-24 22:36:56+00:00  1474509422701416450     deshbachao8   \n",
       "2 2021-12-24 22:13:18+00:00  1474503477380337664  Simran91773278   \n",
       "3 2021-12-24 19:06:06+00:00  1474456366177685508  nitesh21sharma   \n",
       "4 2021-12-24 18:46:23+00:00  1474451405935022080       ShahShi58   \n",
       "\n",
       "                                               tweet Company_Name  \n",
       "0  Really appalled by the services of @zomato and...       Zomato  \n",
       "1  Zomato i need job work from home i have comple...       Zomato  \n",
       "2  @zomato @zomatocare Mr.Rohit frm d customer su...       Zomato  \n",
       "3  @RBLBankCares @ZomatoProHelp It's been a week ...       Zomato  \n",
       "4  This kind of support we get from zomato after ...       Zomato  "
      ]
     },
     "execution_count": 48,
     "metadata": {},
     "output_type": "execute_result"
    }
   ],
   "source": [
    "Zomato_df.head()"
   ]
  },
  {
   "cell_type": "code",
   "execution_count": 49,
   "id": "f226f1ad",
   "metadata": {},
   "outputs": [],
   "source": [
    "### Concadenating all the DataFrames\n",
    "df = pd.concat([amazon_df, flipkart_df, snapdeal_df, mynthra_df, bigbazaar_df, lenskart_df, Ajio_df, Zomato_df], ignore_index=True)"
   ]
  },
  {
   "cell_type": "code",
   "execution_count": 50,
   "id": "b0e927a3",
   "metadata": {},
   "outputs": [],
   "source": [
    "### Converting Data into CSV File\n",
    "df.to_csv('Twitter.csv', index=False)"
   ]
  }
 ],
 "metadata": {
  "kernelspec": {
   "display_name": "Python 3 (ipykernel)",
   "language": "python",
   "name": "python3"
  },
  "language_info": {
   "codemirror_mode": {
    "name": "ipython",
    "version": 3
   },
   "file_extension": ".py",
   "mimetype": "text/x-python",
   "name": "python",
   "nbconvert_exporter": "python",
   "pygments_lexer": "ipython3",
   "version": "3.9.6"
  }
 },
 "nbformat": 4,
 "nbformat_minor": 5
}
